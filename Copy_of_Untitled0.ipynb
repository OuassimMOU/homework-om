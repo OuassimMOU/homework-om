{
  "nbformat": 4,
  "nbformat_minor": 0,
  "metadata": {
    "colab": {
      "provenance": [],
      "authorship_tag": "ABX9TyM4Y+TSK07tbpeWPMekgStD",
      "include_colab_link": true
    },
    "kernelspec": {
      "name": "python3",
      "display_name": "Python 3"
    },
    "language_info": {
      "name": "python"
    }
  },
  "cells": [
    {
      "cell_type": "markdown",
      "metadata": {
        "id": "view-in-github",
        "colab_type": "text"
      },
      "source": [
        "<a href=\"https://colab.research.google.com/github/OuassimMOU/homework-om/blob/main/Copy_of_Untitled0.ipynb\" target=\"_parent\"><img src=\"https://colab.research.google.com/assets/colab-badge.svg\" alt=\"Open In Colab\"/></a>"
      ]
    },
    {
      "cell_type": "code",
      "execution_count": null,
      "metadata": {
        "id": "nWLy79I9Vadd"
      },
      "outputs": [],
      "source": [
        "import tensorflow as tf\n",
        "from tensorflow.keras import datasets, layers, models\n",
        "import matplotlib.pyplot as plt\n",
        "import numpy as np\n",
        "from sklearn.metrics import classification_report, confusion_matrix\n",
        "import seaborn as sns\n",
        "\n",
        "\n"
      ]
    },
    {
      "cell_type": "code",
      "source": [
        "# Load the CIFAR10 dataset\n",
        "(train_images, train_labels), (test_images, test_labels) = datasets.cifar10.load_data()\n",
        "\n",
        "# Define the classes that can fly and those that cannot\n",
        "can_fly = [0, 1]  # Assuming 'airplane' and 'bird' are 0 and 1 in CIFAR10\n",
        "cannot_fly = [2, 3, 4, 5, 6, 7, 8, 9]  # All other classes\n",
        "\n",
        "# Create binary labels for the classification task\n",
        "train_labels_binary = np.where(np.isin(train_labels, can_fly), 1, 0)\n",
        "test_labels_binary = np.where(np.isin(test_labels, can_fly), 1, 0)\n",
        "\n",
        "# Normalize the images\n",
        "train_images, test_images = train_images / 255.0, test_images / 255.0"
      ],
      "metadata": {
        "colab": {
          "base_uri": "https://localhost:8080/"
        },
        "id": "Jw_A0ksQVgvQ",
        "outputId": "7f649c83-c1f0-4036-8cf8-3c4caa163045"
      },
      "execution_count": null,
      "outputs": [
        {
          "output_type": "stream",
          "name": "stdout",
          "text": [
            "Downloading data from https://www.cs.toronto.edu/~kriz/cifar-10-python.tar.gz\n",
            "170498071/170498071 [==============================] - 6s 0us/step\n"
          ]
        }
      ]
    },
    {
      "cell_type": "code",
      "source": [
        "model = models.Sequential([\n",
        "    layers.Conv2D(32, (3, 3), activation='relu', input_shape=(32, 32, 3)),\n",
        "    layers.MaxPooling2D((2, 2)),\n",
        "    layers.Conv2D(64, (3, 3), activation='relu'),\n",
        "    layers.MaxPooling2D((2, 2)),\n",
        "    layers.Conv2D(64, (3, 3), activation='relu'),\n",
        "    layers.Flatten(),\n",
        "    layers.Dense(64, activation='relu'),\n",
        "    layers.Dense(1, activation='sigmoid')  # Sigmoid for binary classification\n",
        "])\n",
        "\n",
        "model.compile(optimizer='adam',\n",
        "              loss='binary_crossentropy',  # Binary cross-entropy loss\n",
        "              metrics=['accuracy'])\n"
      ],
      "metadata": {
        "id": "zF8P-Fc1Vj2r"
      },
      "execution_count": null,
      "outputs": []
    },
    {
      "cell_type": "code",
      "source": [
        "history = model.fit(train_images, train_labels_binary, epochs=10,\n",
        "                    validation_data=(test_images, test_labels_binary))\n"
      ],
      "metadata": {
        "colab": {
          "base_uri": "https://localhost:8080/"
        },
        "id": "lRDysw0iVnAj",
        "outputId": "aee3c5f1-de0d-4c6e-d14e-f85162c5c248"
      },
      "execution_count": null,
      "outputs": [
        {
          "output_type": "stream",
          "name": "stdout",
          "text": [
            "Epoch 1/10\n",
            "1563/1563 [==============================] - 118s 74ms/step - loss: 0.3419 - accuracy: 0.8449 - val_loss: 0.2964 - val_accuracy: 0.8733\n",
            "Epoch 2/10\n",
            "1563/1563 [==============================] - 71s 45ms/step - loss: 0.2800 - accuracy: 0.8814 - val_loss: 0.2584 - val_accuracy: 0.8887\n",
            "Epoch 3/10\n",
            "1563/1563 [==============================] - 69s 44ms/step - loss: 0.2411 - accuracy: 0.9009 - val_loss: 0.2718 - val_accuracy: 0.8809\n",
            "Epoch 4/10\n",
            "1563/1563 [==============================] - 76s 49ms/step - loss: 0.2162 - accuracy: 0.9135 - val_loss: 0.2208 - val_accuracy: 0.9078\n",
            "Epoch 5/10\n",
            "1563/1563 [==============================] - 74s 47ms/step - loss: 0.1921 - accuracy: 0.9233 - val_loss: 0.2169 - val_accuracy: 0.9122\n",
            "Epoch 6/10\n",
            "1563/1563 [==============================] - 73s 47ms/step - loss: 0.1716 - accuracy: 0.9310 - val_loss: 0.2328 - val_accuracy: 0.9061\n",
            "Epoch 7/10\n",
            "1563/1563 [==============================] - 73s 47ms/step - loss: 0.1548 - accuracy: 0.9390 - val_loss: 0.2139 - val_accuracy: 0.9184\n",
            "Epoch 8/10\n",
            "1563/1563 [==============================] - 72s 46ms/step - loss: 0.1384 - accuracy: 0.9452 - val_loss: 0.2204 - val_accuracy: 0.9155\n",
            "Epoch 9/10\n",
            "1563/1563 [==============================] - 71s 46ms/step - loss: 0.1220 - accuracy: 0.9521 - val_loss: 0.2375 - val_accuracy: 0.9103\n",
            "Epoch 10/10\n",
            "1563/1563 [==============================] - 70s 45ms/step - loss: 0.1087 - accuracy: 0.9570 - val_loss: 0.2356 - val_accuracy: 0.9192\n"
          ]
        }
      ]
    },
    {
      "cell_type": "code",
      "source": [
        "test_loss, test_acc = model.evaluate(test_images, test_labels_binary, verbose=2)\n",
        "print(f'\\nTest accuracy: {test_acc}')\n",
        "\n",
        "# Predict the labels for the test set\n",
        "predictions = (model.predict(test_images) > 0.5).astype(\"int32\")\n",
        "\n",
        "# Classification report\n",
        "print(classification_report(test_labels_binary, predictions))\n",
        "\n",
        "# Confusion matrix\n",
        "conf_matrix = confusion_matrix(test_labels_binary, predictions)\n",
        "sns.heatmap(conf_matrix, annot=True, fmt='d', cmap='Blues')\n",
        "plt.xlabel('Predicted')\n",
        "plt.ylabel('Actual')\n",
        "plt.show()\n",
        "\n"
      ],
      "metadata": {
        "colab": {
          "base_uri": "https://localhost:8080/",
          "height": 670
        },
        "id": "ZrmRVPGMVpm_",
        "outputId": "1e5ffc63-e33c-4f46-a0b9-5d523d493eb1"
      },
      "execution_count": null,
      "outputs": [
        {
          "output_type": "stream",
          "name": "stdout",
          "text": [
            "313/313 - 3s - loss: 0.2356 - accuracy: 0.9192 - 3s/epoch - 11ms/step\n",
            "\n",
            "Test accuracy: 0.9192000031471252\n",
            "313/313 [==============================] - 4s 12ms/step\n",
            "              precision    recall  f1-score   support\n",
            "\n",
            "           0       0.94      0.96      0.95      8000\n",
            "           1       0.82      0.77      0.79      2000\n",
            "\n",
            "    accuracy                           0.92     10000\n",
            "   macro avg       0.88      0.86      0.87     10000\n",
            "weighted avg       0.92      0.92      0.92     10000\n",
            "\n"
          ]
        },
        {
          "output_type": "display_data",
          "data": {
            "text/plain": [
              "<Figure size 640x480 with 2 Axes>"
            ],
            "image/png": "[encoded data removed]"
          },
          "metadata": {}
        }
      ]
    }
  ]
}